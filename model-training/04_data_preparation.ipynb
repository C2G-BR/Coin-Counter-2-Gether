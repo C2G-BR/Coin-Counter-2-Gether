{
  "cells": [
    {
      "cell_type": "markdown",
      "metadata": {
        "id": "Sm5Gt3bWfi_5"
      },
      "source": [
        "# Data Preparation\n",
        "\n",
        "The purpose of this notebook is to split the dataframes so that the classes in the training dataframe are similarly distributed.\n",
        "An almost 100% balance is unfortunately not possible. Furthermore, the splits are visualized."
      ]
    },
    {
      "cell_type": "code",
      "execution_count": null,
      "metadata": {
        "colab": {
          "base_uri": "https://localhost:8080/"
        },
        "id": "B2j4-IKqC9BV",
        "outputId": "eb11c6d8-fb35-476d-ff6d-9dfabd7f670f"
      },
      "outputs": [
        {
          "name": "stdout",
          "output_type": "stream",
          "text": [
            "Mounted at /content/drive\n"
          ]
        }
      ],
      "source": [
        "from google.colab import drive\n",
        "drive.mount('/content/drive')"
      ]
    },
    {
      "cell_type": "code",
      "execution_count": null,
      "metadata": {
        "id": "LeLR6T1BDL5m"
      },
      "outputs": [],
      "source": [
        "# Import statements\n",
        "\n",
        "import os\n",
        "import pandas as pd\n",
        "from sklearn.model_selection import train_test_split"
      ]
    },
    {
      "cell_type": "code",
      "execution_count": null,
      "metadata": {
        "id": "pAsWvJ-5DLB_"
      },
      "outputs": [],
      "source": [
        "rootdir = '/content/drive/MyDrive/data'\n",
        "output_imgs = '/content/drive/MyDrive/outputs/imgs'"
      ]
    },
    {
      "cell_type": "code",
      "execution_count": null,
      "metadata": {
        "colab": {
          "base_uri": "https://localhost:8080/",
          "height": 206
        },
        "id": "Db9xVxDHD39O",
        "outputId": "f7c3912d-96fb-4d90-e861-17085660d36a"
      },
      "outputs": [
        {
          "data": {
            "text/html": [
              "\n",
              "  <div id=\"df-11cb305d-db7f-4f26-998d-098dc93f0017\">\n",
              "    <div class=\"colab-df-container\">\n",
              "      <div>\n",
              "<style scoped>\n",
              "    .dataframe tbody tr th:only-of-type {\n",
              "        vertical-align: middle;\n",
              "    }\n",
              "\n",
              "    .dataframe tbody tr th {\n",
              "        vertical-align: top;\n",
              "    }\n",
              "\n",
              "    .dataframe thead th {\n",
              "        text-align: right;\n",
              "    }\n",
              "</style>\n",
              "<table border=\"1\" class=\"dataframe\">\n",
              "  <thead>\n",
              "    <tr style=\"text-align: right;\">\n",
              "      <th></th>\n",
              "      <th>folder</th>\n",
              "      <th>filename</th>\n",
              "      <th>width</th>\n",
              "      <th>height</th>\n",
              "      <th>depth</th>\n",
              "      <th>segmented</th>\n",
              "      <th>name</th>\n",
              "      <th>pose</th>\n",
              "      <th>truncated</th>\n",
              "      <th>difficult</th>\n",
              "      <th>xmin</th>\n",
              "      <th>ymin</th>\n",
              "      <th>xmax</th>\n",
              "      <th>ymax</th>\n",
              "    </tr>\n",
              "  </thead>\n",
              "  <tbody>\n",
              "    <tr>\n",
              "      <th>0</th>\n",
              "      <td>50</td>\n",
              "      <td>20210324_193102.jpg</td>\n",
              "      <td>3024</td>\n",
              "      <td>3024</td>\n",
              "      <td>3</td>\n",
              "      <td>0</td>\n",
              "      <td>50</td>\n",
              "      <td>50</td>\n",
              "      <td>50</td>\n",
              "      <td>50</td>\n",
              "      <td>999</td>\n",
              "      <td>1084</td>\n",
              "      <td>1434</td>\n",
              "      <td>1496</td>\n",
              "    </tr>\n",
              "    <tr>\n",
              "      <th>1</th>\n",
              "      <td>50</td>\n",
              "      <td>20210324_193102.jpg</td>\n",
              "      <td>3024</td>\n",
              "      <td>3024</td>\n",
              "      <td>3</td>\n",
              "      <td>0</td>\n",
              "      <td>50</td>\n",
              "      <td>50</td>\n",
              "      <td>50</td>\n",
              "      <td>50</td>\n",
              "      <td>1540</td>\n",
              "      <td>1071</td>\n",
              "      <td>2003</td>\n",
              "      <td>1502</td>\n",
              "    </tr>\n",
              "    <tr>\n",
              "      <th>2</th>\n",
              "      <td>50</td>\n",
              "      <td>20210324_193102.jpg</td>\n",
              "      <td>3024</td>\n",
              "      <td>3024</td>\n",
              "      <td>3</td>\n",
              "      <td>0</td>\n",
              "      <td>50</td>\n",
              "      <td>50</td>\n",
              "      <td>50</td>\n",
              "      <td>50</td>\n",
              "      <td>687</td>\n",
              "      <td>1515</td>\n",
              "      <td>1168</td>\n",
              "      <td>1968</td>\n",
              "    </tr>\n",
              "    <tr>\n",
              "      <th>3</th>\n",
              "      <td>50</td>\n",
              "      <td>20210324_193102.jpg</td>\n",
              "      <td>3024</td>\n",
              "      <td>3024</td>\n",
              "      <td>3</td>\n",
              "      <td>0</td>\n",
              "      <td>50</td>\n",
              "      <td>50</td>\n",
              "      <td>50</td>\n",
              "      <td>50</td>\n",
              "      <td>1309</td>\n",
              "      <td>1552</td>\n",
              "      <td>1768</td>\n",
              "      <td>1993</td>\n",
              "    </tr>\n",
              "    <tr>\n",
              "      <th>4</th>\n",
              "      <td>50</td>\n",
              "      <td>20210324_193102.jpg</td>\n",
              "      <td>3024</td>\n",
              "      <td>3024</td>\n",
              "      <td>3</td>\n",
              "      <td>0</td>\n",
              "      <td>50</td>\n",
              "      <td>50</td>\n",
              "      <td>50</td>\n",
              "      <td>50</td>\n",
              "      <td>1899</td>\n",
              "      <td>1549</td>\n",
              "      <td>2381</td>\n",
              "      <td>2006</td>\n",
              "    </tr>\n",
              "  </tbody>\n",
              "</table>\n",
              "</div>\n",
              "      <button class=\"colab-df-convert\" onclick=\"convertToInteractive('df-11cb305d-db7f-4f26-998d-098dc93f0017')\"\n",
              "              title=\"Convert this dataframe to an interactive table.\"\n",
              "              style=\"display:none;\">\n",
              "        \n",
              "  <svg xmlns=\"http://www.w3.org/2000/svg\" height=\"24px\"viewBox=\"0 0 24 24\"\n",
              "       width=\"24px\">\n",
              "    <path d=\"M0 0h24v24H0V0z\" fill=\"none\"/>\n",
              "    <path d=\"M18.56 5.44l.94 2.06.94-2.06 2.06-.94-2.06-.94-.94-2.06-.94 2.06-2.06.94zm-11 1L8.5 8.5l.94-2.06 2.06-.94-2.06-.94L8.5 2.5l-.94 2.06-2.06.94zm10 10l.94 2.06.94-2.06 2.06-.94-2.06-.94-.94-2.06-.94 2.06-2.06.94z\"/><path d=\"M17.41 7.96l-1.37-1.37c-.4-.4-.92-.59-1.43-.59-.52 0-1.04.2-1.43.59L10.3 9.45l-7.72 7.72c-.78.78-.78 2.05 0 2.83L4 21.41c.39.39.9.59 1.41.59.51 0 1.02-.2 1.41-.59l7.78-7.78 2.81-2.81c.8-.78.8-2.07 0-2.86zM5.41 20L4 18.59l7.72-7.72 1.47 1.35L5.41 20z\"/>\n",
              "  </svg>\n",
              "      </button>\n",
              "      \n",
              "  <style>\n",
              "    .colab-df-container {\n",
              "      display:flex;\n",
              "      flex-wrap:wrap;\n",
              "      gap: 12px;\n",
              "    }\n",
              "\n",
              "    .colab-df-convert {\n",
              "      background-color: #E8F0FE;\n",
              "      border: none;\n",
              "      border-radius: 50%;\n",
              "      cursor: pointer;\n",
              "      display: none;\n",
              "      fill: #1967D2;\n",
              "      height: 32px;\n",
              "      padding: 0 0 0 0;\n",
              "      width: 32px;\n",
              "    }\n",
              "\n",
              "    .colab-df-convert:hover {\n",
              "      background-color: #E2EBFA;\n",
              "      box-shadow: 0px 1px 2px rgba(60, 64, 67, 0.3), 0px 1px 3px 1px rgba(60, 64, 67, 0.15);\n",
              "      fill: #174EA6;\n",
              "    }\n",
              "\n",
              "    [theme=dark] .colab-df-convert {\n",
              "      background-color: #3B4455;\n",
              "      fill: #D2E3FC;\n",
              "    }\n",
              "\n",
              "    [theme=dark] .colab-df-convert:hover {\n",
              "      background-color: #434B5C;\n",
              "      box-shadow: 0px 1px 3px 1px rgba(0, 0, 0, 0.15);\n",
              "      filter: drop-shadow(0px 1px 2px rgba(0, 0, 0, 0.3));\n",
              "      fill: #FFFFFF;\n",
              "    }\n",
              "  </style>\n",
              "\n",
              "      <script>\n",
              "        const buttonEl =\n",
              "          document.querySelector('#df-11cb305d-db7f-4f26-998d-098dc93f0017 button.colab-df-convert');\n",
              "        buttonEl.style.display =\n",
              "          google.colab.kernel.accessAllowed ? 'block' : 'none';\n",
              "\n",
              "        async function convertToInteractive(key) {\n",
              "          const element = document.querySelector('#df-11cb305d-db7f-4f26-998d-098dc93f0017');\n",
              "          const dataTable =\n",
              "            await google.colab.kernel.invokeFunction('convertToInteractive',\n",
              "                                                     [key], {});\n",
              "          if (!dataTable) return;\n",
              "\n",
              "          const docLinkHtml = 'Like what you see? Visit the ' +\n",
              "            '<a target=\"_blank\" href=https://colab.research.google.com/notebooks/data_table.ipynb>data table notebook</a>'\n",
              "            + ' to learn more about interactive tables.';\n",
              "          element.innerHTML = '';\n",
              "          dataTable['output_type'] = 'display_data';\n",
              "          await google.colab.output.renderOutput(dataTable, element);\n",
              "          const docLink = document.createElement('div');\n",
              "          docLink.innerHTML = docLinkHtml;\n",
              "          element.appendChild(docLink);\n",
              "        }\n",
              "      </script>\n",
              "    </div>\n",
              "  </div>\n",
              "  "
            ],
            "text/plain": [
              "  folder             filename  width  height  depth  segmented  name  pose  \\\n",
              "0     50  20210324_193102.jpg   3024    3024      3          0    50    50   \n",
              "1     50  20210324_193102.jpg   3024    3024      3          0    50    50   \n",
              "2     50  20210324_193102.jpg   3024    3024      3          0    50    50   \n",
              "3     50  20210324_193102.jpg   3024    3024      3          0    50    50   \n",
              "4     50  20210324_193102.jpg   3024    3024      3          0    50    50   \n",
              "\n",
              "   truncated  difficult  xmin  ymin  xmax  ymax  \n",
              "0         50         50   999  1084  1434  1496  \n",
              "1         50         50  1540  1071  2003  1502  \n",
              "2         50         50   687  1515  1168  1968  \n",
              "3         50         50  1309  1552  1768  1993  \n",
              "4         50         50  1899  1549  2381  2006  "
            ]
          },
          "execution_count": 4,
          "metadata": {},
          "output_type": "execute_result"
        }
      ],
      "source": [
        "df = pd.read_csv(os.path.join(rootdir, 'annotations.csv'))\n",
        "df.head()"
      ]
    },
    {
      "cell_type": "code",
      "execution_count": null,
      "metadata": {
        "id": "UKCMCg39FE9E"
      },
      "outputs": [],
      "source": [
        "def flatten(t):\n",
        "  return [item for sublist in t for item in sublist]"
      ]
    },
    {
      "cell_type": "markdown",
      "metadata": {
        "id": "myoa8OsSYXI2"
      },
      "source": [
        "The splits are set so that all coins occur approximately equally in the workout"
      ]
    },
    {
      "cell_type": "code",
      "execution_count": null,
      "metadata": {
        "id": "Fp2tqrXfD9Nm"
      },
      "outputs": [],
      "source": [
        "train_1, test_1 = train_test_split(df[df['folder'] == '1']['filename'].unique(), test_size=0.3)\n",
        "train_2, test_2 = train_test_split(df[df['folder'] == '2']['filename'].unique(), test_size=0.3)\n",
        "train_5, test_5 = train_test_split(df[df['folder'] == '5']['filename'].unique(), test_size=0.3)\n",
        "train_10, test_10 = train_test_split(df[df['folder'] == '10']['filename'].unique(), test_size=0.3)\n",
        "train_20, test_20 = train_test_split(df[df['folder'] == '20']['filename'].unique(), test_size=0.0001)\n",
        "train_50, test_50 = train_test_split(df[df['folder'] == '50']['filename'].unique(), test_size=0.0001)\n",
        "train_100, test_100 = train_test_split(df[df['folder'] == '100']['filename'].unique(), test_size=0.0001)\n",
        "train_200, test_200 = train_test_split(df[df['folder'] == '200']['filename'].unique(), test_size=0.0001)\n",
        "train_mixed, test_mixed = train_test_split(df[df['folder'] == 'mixed']['filename'].unique(), test_size=0.025)\n",
        "train_own, test_own = train_test_split(df[df['folder'] == 'own']['filename'].unique(), test_size=0.3)\n",
        "train_images, test_images = train_test_split(df[df['folder'] == 'images']['filename'].unique(), test_size=0.05)\n",
        "\n",
        "df_train = df[df['filename'].isin(flatten([train_1, train_2, train_5, train_10, train_20, train_50, train_100, train_200, train_mixed, train_own, train_images]))]\n",
        "df_test = df[df['filename'].isin(flatten([test_1, test_2, test_5, test_10, test_20, test_50, test_100, test_200, test_mixed, test_own, test_images]))]"
      ]
    },
    {
      "cell_type": "markdown",
      "metadata": {
        "id": "dSUxwFU5Yn_b"
      },
      "source": [
        "### Tests to check if split didn't cause any side effects"
      ]
    },
    {
      "cell_type": "code",
      "execution_count": null,
      "metadata": {
        "id": "-B-6jLNLFrln"
      },
      "outputs": [],
      "source": [
        "assert len(df[df['filename'].isin(flatten([train_1, train_2]))]['filename'].unique()) == (len(train_1) + len(train_2))"
      ]
    },
    {
      "cell_type": "code",
      "execution_count": null,
      "metadata": {
        "id": "KAoaslJLHuFh"
      },
      "outputs": [],
      "source": [
        "assert (len(df_train) + len(df_test)) == len(df)"
      ]
    },
    {
      "cell_type": "code",
      "execution_count": null,
      "metadata": {
        "id": "e6g8UzJKSFDm"
      },
      "outputs": [],
      "source": [
        "assert (len(train_mixed) + len(test_mixed)) == len(df[df['folder'] == 'mixed']['filename'].unique())"
      ]
    },
    {
      "cell_type": "markdown",
      "metadata": {
        "id": "KEwC_OpGJbUc"
      },
      "source": [
        "## Normal dataframe"
      ]
    },
    {
      "cell_type": "code",
      "execution_count": null,
      "metadata": {
        "colab": {
          "base_uri": "https://localhost:8080/",
          "height": 304
        },
        "id": "kccMJjkjJa3i",
        "outputId": "dac50902-289a-4553-b237-12ddd4927d8a"
      },
      "outputs": [
        {
          "data": {
            "image/png": "[encoded data removed]",
            "text/plain": [
              "<Figure size 432x288 with 1 Axes>"
            ]
          },
          "metadata": {
            "needs_background": "light"
          },
          "output_type": "display_data"
        }
      ],
      "source": [
        "ax = df['pose'].value_counts().sort_index().plot(kind = 'bar', title = 'Overall distribution of classes in complete dataset', ylabel = 'Count', xlabel = 'Coin value')"
      ]
    },
    {
      "cell_type": "markdown",
      "metadata": {
        "id": "LKpYjfGhJc-t"
      },
      "source": [
        "## Train dataframe"
      ]
    },
    {
      "cell_type": "code",
      "execution_count": null,
      "metadata": {
        "colab": {
          "base_uri": "https://localhost:8080/",
          "height": 304
        },
        "id": "Q43Ifdp2I751",
        "outputId": "899a7958-d338-4480-c305-490ca12b7401"
      },
      "outputs": [
        {
          "data": {
            "image/png": "[encoded data removed]",
            "text/plain": [
              "<Figure size 432x288 with 1 Axes>"
            ]
          },
          "metadata": {
            "needs_background": "light"
          },
          "output_type": "display_data"
        }
      ],
      "source": [
        "ax = df_train['pose'].value_counts().sort_index().plot(kind = 'bar', title = 'Overall distribution of classes in trainset', ylabel = 'Count', xlabel = 'Coin value')\n",
        "ax.figure.savefig(os.path.join(output_imgs, 'overall_distribution_of_classes_train.png'))"
      ]
    },
    {
      "cell_type": "markdown",
      "metadata": {
        "id": "exnAX-NeJfqf"
      },
      "source": [
        "## Test dataframe"
      ]
    },
    {
      "cell_type": "code",
      "execution_count": null,
      "metadata": {
        "colab": {
          "base_uri": "https://localhost:8080/",
          "height": 304
        },
        "id": "Pv4gMTSvJLPB",
        "outputId": "4a2fa8f1-0d4f-49ec-8463-12a92070b0e1"
      },
      "outputs": [
        {
          "data": {
            "image/png": "[encoded data removed]",
            "text/plain": [
              "<Figure size 432x288 with 1 Axes>"
            ]
          },
          "metadata": {
            "needs_background": "light"
          },
          "output_type": "display_data"
        }
      ],
      "source": [
        "ax = df_test['pose'].value_counts().sort_index().plot(kind = 'bar', title = 'Overall distribution of classes in testset', ylabel = 'Count', xlabel = 'Coin value')\n",
        "ax.figure.savefig(os.path.join(output_imgs, 'overall_distribution_of_classes_test.pdf'))"
      ]
    },
    {
      "cell_type": "code",
      "execution_count": null,
      "metadata": {
        "id": "UbNevmoNIvWm"
      },
      "outputs": [],
      "source": [
        "# Save dataframes as csv file\n",
        "df_train.to_csv(os.path.join(rootdir, 'train.csv'), index = False)\n",
        "df_test.to_csv(os.path.join(rootdir, 'test.csv'), index = False)"
      ]
    }
  ],
  "metadata": {
    "colab": {
      "collapsed_sections": [],
      "name": "DataPreparation.ipynb",
      "provenance": []
    },
    "kernelspec": {
      "display_name": "Python 3",
      "name": "python3"
    },
    "language_info": {
      "name": "python"
    }
  },
  "nbformat": 4,
  "nbformat_minor": 0
}
